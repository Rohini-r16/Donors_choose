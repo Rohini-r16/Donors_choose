{
 "cells": [
  {
   "cell_type": "markdown",
   "metadata": {
    "id": "Dnubs-Nnb3cw"
   },
   "source": [
    "# Applying Naive Bayes "
   ]
  },
  {
   "cell_type": "code",
   "execution_count": 6,
   "metadata": {
    "id": "chpSjDaXm9KG"
   },
   "outputs": [],
   "source": [
    "%matplotlib inline\n",
    "import warnings\n",
    "warnings.filterwarnings(\"ignore\")\n",
    "\n",
    "import sqlite3\n",
    "import pandas as pd\n",
    "import numpy as np\n",
    "import nltk\n",
    "import string\n",
    "import matplotlib.pyplot as plt\n",
    "import seaborn as sns\n",
    "from sklearn.feature_extraction.text import TfidfTransformer\n",
    "from sklearn.feature_extraction.text import TfidfVectorizer\n",
    "\n",
    "from sklearn.feature_extraction.text import CountVectorizer\n",
    "from sklearn.metrics import confusion_matrix\n",
    "from sklearn import metrics\n",
    "from sklearn.metrics import roc_curve, auc\n",
    "from nltk.stem.porter import PorterStemmer\n",
    "\n",
    "import re\n",
    "# Tutorial about Python regular expressions: https://pymotw.com/2/re/\n",
    "import string\n",
    "from nltk.corpus import stopwords\n",
    "from nltk.stem import PorterStemmer\n",
    "from nltk.stem.wordnet import WordNetLemmatizer\n",
    "\n",
    "from gensim.models import Word2Vec\n",
    "from gensim.models import KeyedVectors\n",
    "import pickle\n",
    "\n",
    "from tqdm import tqdm\n",
    "import os\n",
    "\n",
    "#from plotly import plotly\n",
    "import plotly.offline as offline\n",
    "import plotly.graph_objs as go\n",
    "from collections import Counter"
   ]
  },
  {
   "cell_type": "markdown",
   "metadata": {
    "id": "cKFScH5F7U2K"
   },
   "source": [
    "<h1>1. Data Reading and pre-processing if required</h1>"
   ]
  },
  {
   "cell_type": "markdown",
   "metadata": {
    "id": "FYqCIxzFb3c5"
   },
   "source": [
    "## 1.1 Loading Data\n",
    "\n",
    "Here I have used data after pre-processing. Only essay text is not pre-processed."
   ]
  },
  {
   "cell_type": "code",
   "execution_count": 7,
   "metadata": {
    "id": "dA1jknyqb3c_",
    "outputId": "58d5c579-e033-4415-f2a5-923e9d00a15d"
   },
   "outputs": [
    {
     "data": {
      "text/html": [
       "<div>\n",
       "<style scoped>\n",
       "    .dataframe tbody tr th:only-of-type {\n",
       "        vertical-align: middle;\n",
       "    }\n",
       "\n",
       "    .dataframe tbody tr th {\n",
       "        vertical-align: top;\n",
       "    }\n",
       "\n",
       "    .dataframe thead th {\n",
       "        text-align: right;\n",
       "    }\n",
       "</style>\n",
       "<table border=\"1\" class=\"dataframe\">\n",
       "  <thead>\n",
       "    <tr style=\"text-align: right;\">\n",
       "      <th></th>\n",
       "      <th>school_state</th>\n",
       "      <th>teacher_prefix</th>\n",
       "      <th>project_grade_category</th>\n",
       "      <th>teacher_number_of_previously_posted_projects</th>\n",
       "      <th>project_is_approved</th>\n",
       "      <th>clean_categories</th>\n",
       "      <th>clean_subcategories</th>\n",
       "      <th>essay</th>\n",
       "      <th>price</th>\n",
       "    </tr>\n",
       "  </thead>\n",
       "  <tbody>\n",
       "    <tr>\n",
       "      <th>0</th>\n",
       "      <td>ca</td>\n",
       "      <td>mrs</td>\n",
       "      <td>grades_prek_2</td>\n",
       "      <td>53</td>\n",
       "      <td>1</td>\n",
       "      <td>math_science</td>\n",
       "      <td>appliedsciences health_lifescience</td>\n",
       "      <td>i fortunate enough use fairy tale stem kits cl...</td>\n",
       "      <td>725.05</td>\n",
       "    </tr>\n",
       "    <tr>\n",
       "      <th>1</th>\n",
       "      <td>ut</td>\n",
       "      <td>ms</td>\n",
       "      <td>grades_3_5</td>\n",
       "      <td>4</td>\n",
       "      <td>1</td>\n",
       "      <td>specialneeds</td>\n",
       "      <td>specialneeds</td>\n",
       "      <td>imagine 8 9 years old you third grade classroo...</td>\n",
       "      <td>213.03</td>\n",
       "    </tr>\n",
       "    <tr>\n",
       "      <th>2</th>\n",
       "      <td>ca</td>\n",
       "      <td>mrs</td>\n",
       "      <td>grades_prek_2</td>\n",
       "      <td>10</td>\n",
       "      <td>1</td>\n",
       "      <td>literacy_language</td>\n",
       "      <td>literacy</td>\n",
       "      <td>having class 24 students comes diverse learner...</td>\n",
       "      <td>329.00</td>\n",
       "    </tr>\n",
       "    <tr>\n",
       "      <th>3</th>\n",
       "      <td>ga</td>\n",
       "      <td>mrs</td>\n",
       "      <td>grades_prek_2</td>\n",
       "      <td>2</td>\n",
       "      <td>1</td>\n",
       "      <td>appliedlearning</td>\n",
       "      <td>earlydevelopment</td>\n",
       "      <td>i recently read article giving students choice...</td>\n",
       "      <td>481.04</td>\n",
       "    </tr>\n",
       "    <tr>\n",
       "      <th>4</th>\n",
       "      <td>wa</td>\n",
       "      <td>mrs</td>\n",
       "      <td>grades_3_5</td>\n",
       "      <td>2</td>\n",
       "      <td>1</td>\n",
       "      <td>literacy_language</td>\n",
       "      <td>literacy</td>\n",
       "      <td>my students crave challenge eat obstacles brea...</td>\n",
       "      <td>17.74</td>\n",
       "    </tr>\n",
       "  </tbody>\n",
       "</table>\n",
       "</div>"
      ],
      "text/plain": [
       "  school_state teacher_prefix project_grade_category  \\\n",
       "0           ca            mrs          grades_prek_2   \n",
       "1           ut             ms             grades_3_5   \n",
       "2           ca            mrs          grades_prek_2   \n",
       "3           ga            mrs          grades_prek_2   \n",
       "4           wa            mrs             grades_3_5   \n",
       "\n",
       "   teacher_number_of_previously_posted_projects  project_is_approved  \\\n",
       "0                                            53                    1   \n",
       "1                                             4                    1   \n",
       "2                                            10                    1   \n",
       "3                                             2                    1   \n",
       "4                                             2                    1   \n",
       "\n",
       "    clean_categories                 clean_subcategories  \\\n",
       "0       math_science  appliedsciences health_lifescience   \n",
       "1       specialneeds                        specialneeds   \n",
       "2  literacy_language                            literacy   \n",
       "3    appliedlearning                    earlydevelopment   \n",
       "4  literacy_language                            literacy   \n",
       "\n",
       "                                               essay   price  \n",
       "0  i fortunate enough use fairy tale stem kits cl...  725.05  \n",
       "1  imagine 8 9 years old you third grade classroo...  213.03  \n",
       "2  having class 24 students comes diverse learner...  329.00  \n",
       "3  i recently read article giving students choice...  481.04  \n",
       "4  my students crave challenge eat obstacles brea...   17.74  "
      ]
     },
     "execution_count": 7,
     "metadata": {},
     "output_type": "execute_result"
    }
   ],
   "source": [
    "import pandas\n",
    "data = pandas.read_csv('C:/Users/rohin/AAIC/Git/donors_choose/preprocessed_data.csv', nrows=100000)\n",
    "data.head(5)"
   ]
  },
  {
   "cell_type": "code",
   "execution_count": 8,
   "metadata": {
    "id": "hF7Bu65h7U2M",
    "outputId": "474edb8d-a8d8-48b6-e733-49888464c328"
   },
   "outputs": [
    {
     "name": "stdout",
     "output_type": "stream",
     "text": [
      "['i fortunate enough use fairy tale stem kits classroom well stem journals students really enjoyed i would love implement lakeshore stem kits classroom next school year provide excellent engaging stem lessons my students come variety backgrounds including language socioeconomic status many not lot experience science engineering kits give materials provide exciting opportunities students each month i try several science stem steam projects i would use kits robot help guide science instruction engaging meaningful ways i adapt kits current language arts pacing guide already teach material kits like tall tales paul bunyan johnny appleseed the following units taught next school year i implement kits magnets motion sink vs float robots i often get units not know if i teaching right way using right materials the kits give additional ideas strategies lessons prepare students science it challenging develop high quality science activities these kits give materials i need provide students science activities go along curriculum classroom although i things like magnets classroom i not know use effectively the kits provide right amount materials show use appropriate way']\n"
     ]
    }
   ],
   "source": [
    "print(data['essay'].head(1).values)\n",
    "#preprocessing is required for essays."
   ]
  },
  {
   "cell_type": "markdown",
   "metadata": {
    "id": "5SrfOKs77U2M"
   },
   "source": [
    "<h3> Preprocessing essays</h3>"
   ]
  },
  {
   "cell_type": "code",
   "execution_count": 9,
   "metadata": {
    "id": "InpJZkJI7U2N"
   },
   "outputs": [],
   "source": [
    "# https://stackoverflow.com/a/47091490/4084039\n",
    "import re\n",
    "\n",
    "def decontracted(phrase):\n",
    "    # specific\n",
    "    phrase = re.sub(r\"won't\", \"will not\", phrase)\n",
    "    phrase = re.sub(r\"can\\'t\", \"can not\", phrase)\n",
    "\n",
    "    # general\n",
    "    phrase = re.sub(r\"n\\'t\", \" not\", phrase)\n",
    "    phrase = re.sub(r\"\\'re\", \" are\", phrase)\n",
    "    phrase = re.sub(r\"\\'s\", \" is\", phrase)\n",
    "    phrase = re.sub(r\"\\'d\", \" would\", phrase)\n",
    "    phrase = re.sub(r\"\\'ll\", \" will\", phrase)\n",
    "    phrase = re.sub(r\"\\'t\", \" not\", phrase)\n",
    "    phrase = re.sub(r\"\\'ve\", \" have\", phrase)\n",
    "    phrase = re.sub(r\"\\'m\", \" am\", phrase)\n",
    "    return phrase"
   ]
  },
  {
   "cell_type": "code",
   "execution_count": 10,
   "metadata": {
    "id": "e02Ii1857U2N"
   },
   "outputs": [],
   "source": [
    "# https://gist.github.com/sebleier/554280\n",
    "# we are removing the words from the stop words list: 'no', 'nor', 'not'\n",
    "stopwords= ['i', 'me', 'my', 'myself', 'we', 'our', 'ours', 'ourselves', 'you', \"you're\", \"you've\",\\\n",
    "            \"you'll\", \"you'd\", 'your', 'yours', 'yourself', 'yourselves', 'he', 'him', 'his', 'himself', \\\n",
    "            'she', \"she's\", 'her', 'hers', 'herself', 'it', \"it's\", 'its', 'itself', 'they', 'them', 'their',\\\n",
    "            'theirs', 'themselves', 'what', 'which', 'who', 'whom', 'this', 'that', \"that'll\", 'these', 'those', \\\n",
    "            'am', 'is', 'are', 'was', 'were', 'be', 'been', 'being', 'have', 'has', 'had', 'having', 'do', 'does', \\\n",
    "            'did', 'doing', 'a', 'an', 'the', 'and', 'but', 'if', 'or', 'because', 'as', 'until', 'while', 'of', \\\n",
    "            'at', 'by', 'for', 'with', 'about', 'against', 'between', 'into', 'through', 'during', 'before', 'after',\\\n",
    "            'above', 'below', 'to', 'from', 'up', 'down', 'in', 'out', 'on', 'off', 'over', 'under', 'again', 'further',\\\n",
    "            'then', 'once', 'here', 'there', 'when', 'where', 'why', 'how', 'all', 'any', 'both', 'each', 'few', 'more',\\\n",
    "            'most', 'other', 'some', 'such', 'only', 'own', 'same', 'so', 'than', 'too', 'very', \\\n",
    "            's', 't', 'can', 'will', 'just', 'don', \"don't\", 'should', \"should've\", 'now', 'd', 'll', 'm', 'o', 're', \\\n",
    "            've', 'y', 'ain', 'aren', \"aren't\", 'couldn', \"couldn't\", 'didn', \"didn't\", 'doesn', \"doesn't\", 'hadn',\\\n",
    "            \"hadn't\", 'hasn', \"hasn't\", 'haven', \"haven't\", 'isn', \"isn't\", 'ma', 'mightn', \"mightn't\", 'mustn',\\\n",
    "            \"mustn't\", 'needn', \"needn't\", 'shan', \"shan't\", 'shouldn', \"shouldn't\", 'wasn', \"wasn't\", 'weren', \"weren't\", \\\n",
    "            'won', \"won't\", 'wouldn', \"wouldn't\"]"
   ]
  },
  {
   "cell_type": "code",
   "execution_count": 11,
   "metadata": {
    "id": "9qz6mH6Y7U2O"
   },
   "outputs": [],
   "source": [
    "# Combining all the above stundents \n",
    "from tqdm import tqdm\n",
    "def preprocess_text(text_data):\n",
    "    preprocessed_text = []\n",
    "    # tqdm is for printing the status bar\n",
    "    for sentance in tqdm(text_data):\n",
    "        sent = decontracted(sentance)\n",
    "        sent = sent.replace('\\\\r', ' ')\n",
    "        sent = sent.replace('\\\\n', ' ')\n",
    "        sent = sent.replace('\\\\\"', ' ')\n",
    "        sent = re.sub('[^A-Za-z0-9]+', ' ', sent)\n",
    "        # https://gist.github.com/sebleier/554280\n",
    "        sent = ' '.join(e for e in sent.split() if e.lower() not in stopwords)\n",
    "        preprocessed_text.append(sent.lower().strip())\n",
    "    return preprocessed_text"
   ]
  },
  {
   "cell_type": "code",
   "execution_count": 12,
   "metadata": {
    "id": "ACieDtqo7U2O",
    "outputId": "ec82323f-a3ec-4df2-d0e5-9a8915be6351"
   },
   "outputs": [
    {
     "name": "stderr",
     "output_type": "stream",
     "text": [
      "100%|█████████████████████████████████████████████████████████████████████████| 100000/100000 [02:10<00:00, 767.51it/s]\n"
     ]
    }
   ],
   "source": [
    "preprocessed_essays = preprocess_text(data['essay'].values)"
   ]
  },
  {
   "cell_type": "code",
   "execution_count": 13,
   "metadata": {
    "id": "ctfhC-RC7U2P"
   },
   "outputs": [],
   "source": [
    "data['preprocessed_essays'] = preprocessed_essays"
   ]
  },
  {
   "cell_type": "code",
   "execution_count": 14,
   "metadata": {
    "id": "L0cbFMAG7U2P",
    "outputId": "1a647bcb-2607-4965-b716-7779f96572ea"
   },
   "outputs": [
    {
     "name": "stdout",
     "output_type": "stream",
     "text": [
      "['fortunate enough use fairy tale stem kits classroom well stem journals students really enjoyed would love implement lakeshore stem kits classroom next school year provide excellent engaging stem lessons students come variety backgrounds including language socioeconomic status many not lot experience science engineering kits give materials provide exciting opportunities students month try several science stem steam projects would use kits robot help guide science instruction engaging meaningful ways adapt kits current language arts pacing guide already teach material kits like tall tales paul bunyan johnny appleseed following units taught next school year implement kits magnets motion sink vs float robots often get units not know teaching right way using right materials kits give additional ideas strategies lessons prepare students science challenging develop high quality science activities kits give materials need provide students science activities go along curriculum classroom although things like magnets classroom not know use effectively kits provide right amount materials show use appropriate way']\n"
     ]
    }
   ],
   "source": [
    "#Afrer preprocessing the essays\n",
    "print(data['preprocessed_essays'].head(1).values)"
   ]
  },
  {
   "cell_type": "code",
   "execution_count": 15,
   "metadata": {
    "id": "vFB0RF6Q7U2P",
    "outputId": "c100f970-160e-49c1-a170-bbd32c509539"
   },
   "outputs": [
    {
     "data": {
      "text/html": [
       "<div>\n",
       "<style scoped>\n",
       "    .dataframe tbody tr th:only-of-type {\n",
       "        vertical-align: middle;\n",
       "    }\n",
       "\n",
       "    .dataframe tbody tr th {\n",
       "        vertical-align: top;\n",
       "    }\n",
       "\n",
       "    .dataframe thead th {\n",
       "        text-align: right;\n",
       "    }\n",
       "</style>\n",
       "<table border=\"1\" class=\"dataframe\">\n",
       "  <thead>\n",
       "    <tr style=\"text-align: right;\">\n",
       "      <th></th>\n",
       "      <th>school_state</th>\n",
       "      <th>teacher_prefix</th>\n",
       "      <th>project_grade_category</th>\n",
       "      <th>teacher_number_of_previously_posted_projects</th>\n",
       "      <th>clean_categories</th>\n",
       "      <th>clean_subcategories</th>\n",
       "      <th>essay</th>\n",
       "      <th>price</th>\n",
       "      <th>preprocessed_essays</th>\n",
       "    </tr>\n",
       "  </thead>\n",
       "  <tbody>\n",
       "    <tr>\n",
       "      <th>0</th>\n",
       "      <td>ca</td>\n",
       "      <td>mrs</td>\n",
       "      <td>grades_prek_2</td>\n",
       "      <td>53</td>\n",
       "      <td>math_science</td>\n",
       "      <td>appliedsciences health_lifescience</td>\n",
       "      <td>i fortunate enough use fairy tale stem kits cl...</td>\n",
       "      <td>725.05</td>\n",
       "      <td>fortunate enough use fairy tale stem kits clas...</td>\n",
       "    </tr>\n",
       "  </tbody>\n",
       "</table>\n",
       "</div>"
      ],
      "text/plain": [
       "  school_state teacher_prefix project_grade_category  \\\n",
       "0           ca            mrs          grades_prek_2   \n",
       "\n",
       "   teacher_number_of_previously_posted_projects clean_categories  \\\n",
       "0                                            53     math_science   \n",
       "\n",
       "                  clean_subcategories  \\\n",
       "0  appliedsciences health_lifescience   \n",
       "\n",
       "                                               essay   price  \\\n",
       "0  i fortunate enough use fairy tale stem kits cl...  725.05   \n",
       "\n",
       "                                 preprocessed_essays  \n",
       "0  fortunate enough use fairy tale stem kits clas...  "
      ]
     },
     "execution_count": 15,
     "metadata": {},
     "output_type": "execute_result"
    }
   ],
   "source": [
    "y = data['project_is_approved'].values #class label\n",
    "X = data.drop(['project_is_approved'], axis=1) #data points\n",
    "X.head(1)"
   ]
  },
  {
   "cell_type": "markdown",
   "metadata": {
    "id": "WtVV13Fyb3dH"
   },
   "source": [
    "<h2>1.2 Splitting data into Train and cross validation(or test): Stratified Sampling</h2>"
   ]
  },
  {
   "cell_type": "code",
   "execution_count": 16,
   "metadata": {
    "id": "i-PyprDNb3dI",
    "outputId": "4a08cfbf-2d73-4880-d4e7-0268d391c737"
   },
   "outputs": [
    {
     "name": "stdout",
     "output_type": "stream",
     "text": [
      "x_train:  (80000, 9)\n",
      "x_test :  (20000, 9)\n",
      "y_train:  (80000,)\n",
      "y_test :  (20000,)\n"
     ]
    }
   ],
   "source": [
    "#splitting data into X_train, X_test, y_train, y_test\n",
    "from sklearn.model_selection import train_test_split\n",
    "x_train,x_test,y_train,y_test=train_test_split(\n",
    "    X,\n",
    "    y,\n",
    "    test_size=0.2,\n",
    "    random_state=42,\n",
    "    stratify=y)\n",
    "print(\"x_train: \",x_train.shape)\n",
    "print(\"x_test : \",x_test.shape)\n",
    "print(\"y_train: \",y_train.shape)\n",
    "print(\"y_test : \",y_test.shape)"
   ]
  },
  {
   "cell_type": "markdown",
   "metadata": {
    "id": "EnZwVNULb3dO"
   },
   "source": [
    "<h2>1.3 Make Data Model Ready: encoding eassay</h2>\n",
    "\n",
    "\n",
    "<h3>1.3.1 BOW:Encoding essays</h3>"
   ]
  },
  {
   "cell_type": "code",
   "execution_count": 17,
   "metadata": {
    "id": "-SczZKiab3dR",
    "outputId": "cab64c02-498c-4f63-e39f-df9d2ccafa12"
   },
   "outputs": [
    {
     "name": "stdout",
     "output_type": "stream",
     "text": [
      "After vectorization\n",
      "Shape of matrix after BOW -> essays: x_train: (80000, 14585)\n",
      "Shape of matrix after BOW -> essays: x_test: (20000, 14585)\n"
     ]
    }
   ],
   "source": [
    "vectorizer_essay_bow = CountVectorizer(min_df=10)\n",
    "vectorizer_essay_bow.fit(x_train['preprocessed_essays'].values) # fit has to happen only on train data\n",
    "#(min_df=10,ngram_range=(1,2), max_features=5000)\n",
    "# we use the fitted CountVectorizer to convert the text to vector\n",
    "X_train_essay_bow = vectorizer_essay_bow.transform(x_train['preprocessed_essays'].values)\n",
    "X_test_essay_bow = vectorizer_essay_bow.transform(x_test['preprocessed_essays'].values)\n",
    "\n",
    "print(\"After vectorization\")\n",
    "print(\"Shape of matrix after BOW -> essays: x_train:\",X_train_essay_bow.shape)\n",
    "print(\"Shape of matrix after BOW -> essays: x_test:\",X_test_essay_bow.shape )"
   ]
  },
  {
   "cell_type": "markdown",
   "metadata": {
    "id": "AqAB-0P27U2Q"
   },
   "source": [
    "<h3> 1.3.2 TF-IDF: Encoding essays</h3>"
   ]
  },
  {
   "cell_type": "code",
   "execution_count": 18,
   "metadata": {
    "id": "Z7YJzvkp7U2Q",
    "outputId": "077a06a8-152e-4272-91cb-494213551bf5"
   },
   "outputs": [
    {
     "name": "stdout",
     "output_type": "stream",
     "text": [
      "After vectorization\n",
      "Shape of matrix after TF-IDF -> essays: x_train: (80000, 14585)\n",
      "Shape of matrix after TF-IDF -> essays: x_test: (20000, 14585)\n"
     ]
    }
   ],
   "source": [
    "vectorizer_essay_tfidf = TfidfVectorizer(min_df=10)\n",
    "vectorizer_essay_tfidf.fit(x_train['preprocessed_essays'].values) # fit has to happen only on train data\n",
    "\n",
    "# we use the fitted CountVectorizer to convert the text to vector\n",
    "X_train_essay_tfidf = vectorizer_essay_tfidf.transform(x_train['preprocessed_essays'].values)\n",
    "X_test_essay_tfidf = vectorizer_essay_tfidf.transform(x_test['preprocessed_essays'].values)\n",
    "\n",
    "print(\"After vectorization\")\n",
    "print(\"Shape of matrix after TF-IDF -> essays: x_train:\",X_train_essay_tfidf.shape)\n",
    "print(\"Shape of matrix after TF-IDF -> essays: x_test:\",X_test_essay_tfidf.shape )"
   ]
  },
  {
   "cell_type": "markdown",
   "metadata": {
    "id": "bGy86kgHb3dX"
   },
   "source": [
    "<h2>1.4 Make Data Model Ready: encoding categorical, numerical features</h2>\n",
    "<h3>1.4.1 encoding categorical features: School State</h3>"
   ]
  },
  {
   "cell_type": "code",
   "execution_count": 19,
   "metadata": {
    "id": "EfXkofX1b3da",
    "outputId": "fe6bb97f-4fe2-4d53-c70f-da4698a012c6"
   },
   "outputs": [
    {
     "name": "stdout",
     "output_type": "stream",
     "text": [
      "After vectorizations\n",
      "(80000, 51) (80000,)\n",
      "(20000, 51) (20000,)\n",
      "['ak', 'al', 'ar', 'az', 'ca', 'co', 'ct', 'dc', 'de', 'fl', 'ga', 'hi', 'ia', 'id', 'il', 'in', 'ks', 'ky', 'la', 'ma', 'md', 'me', 'mi', 'mn', 'mo', 'ms', 'mt', 'nc', 'nd', 'ne', 'nh', 'nj', 'nm', 'nv', 'ny', 'oh', 'ok', 'or', 'pa', 'ri', 'sc', 'sd', 'tn', 'tx', 'ut', 'va', 'vt', 'wa', 'wi', 'wv', 'wy']\n",
      "====================================================================================================\n"
     ]
    }
   ],
   "source": [
    "vectorizer_school_state = CountVectorizer()\n",
    "vectorizer_school_state.fit(x_train['school_state'].values) # fit has to happen only on train data\n",
    "\n",
    "# we use the fitted CountVectorizer to convert the text to vector\n",
    "X_train_state_ohe = vectorizer_school_state.transform(x_train['school_state'].values)\n",
    "X_test_state_ohe = vectorizer_school_state.transform(x_test['school_state'].values)\n",
    "\n",
    "print(\"After vectorizations\")\n",
    "print(X_train_state_ohe.shape, y_train.shape)\n",
    "print(X_test_state_ohe.shape, y_test.shape)\n",
    "print(vectorizer_school_state.get_feature_names())\n",
    "print(\"=\"*100)"
   ]
  },
  {
   "cell_type": "markdown",
   "metadata": {
    "id": "5Q1y4QqN7U2R"
   },
   "source": [
    "<h3>1.4.2 encoding categorical features: teacher_prefix</h3>"
   ]
  },
  {
   "cell_type": "code",
   "execution_count": 20,
   "metadata": {
    "id": "ZiUl5Z6n7U2R",
    "outputId": "bc6da958-2aab-4b32-a936-679bf939cca7"
   },
   "outputs": [
    {
     "name": "stdout",
     "output_type": "stream",
     "text": [
      "After vectorizations\n",
      "(80000, 5) (80000,)\n",
      "(20000, 5) (20000,)\n",
      "['dr', 'mr', 'mrs', 'ms', 'teacher']\n",
      "====================================================================================================\n"
     ]
    }
   ],
   "source": [
    "vectorizer_prefix = CountVectorizer()\n",
    "vectorizer_prefix.fit(x_train['teacher_prefix'].values) # fit has to happen only on train data\n",
    "\n",
    "# we use the fitted CountVectorizer to convert the text to vector\n",
    "X_train_teacher_ohe = vectorizer_prefix.transform(x_train['teacher_prefix'].values)\n",
    "#X_cv_teacher_ohe = vectorizer.transform(X_cv['teacher_prefix'].values)\n",
    "X_test_teacher_ohe = vectorizer_prefix.transform(x_test['teacher_prefix'].values)\n",
    "\n",
    "print(\"After vectorizations\")\n",
    "print(X_train_teacher_ohe.shape, y_train.shape)\n",
    "#print(X_cv_teacher_ohe.shape, y_cv.shape)\n",
    "print(X_test_teacher_ohe.shape, y_test.shape)\n",
    "print(vectorizer_prefix.get_feature_names())\n",
    "print(\"=\"*100)"
   ]
  },
  {
   "cell_type": "markdown",
   "metadata": {
    "id": "FtLXAGrD7U2S"
   },
   "source": [
    "<h3>1.4.3 encoding categorical features: project_grade_category</h3>"
   ]
  },
  {
   "cell_type": "code",
   "execution_count": 21,
   "metadata": {
    "id": "4US-P17M7U2S",
    "outputId": "7a641c77-396f-43c5-aa84-9c9d36b67500"
   },
   "outputs": [
    {
     "name": "stdout",
     "output_type": "stream",
     "text": [
      "After vectorizations\n",
      "(80000, 4) (80000,)\n",
      "(20000, 4) (20000,)\n",
      "['grades_3_5', 'grades_6_8', 'grades_9_12', 'grades_prek_2']\n",
      "====================================================================================================\n"
     ]
    }
   ],
   "source": [
    "vectorizer_grade = CountVectorizer()\n",
    "vectorizer_grade.fit(x_train['project_grade_category'].values) # fit has to happen only on train data\n",
    "\n",
    "# we use the fitted CountVectorizer to convert the text to vector\n",
    "X_train_grade_ohe = vectorizer_grade.transform(x_train['project_grade_category'].values)\n",
    "#X_cv_grade_ohe = vectorizer.transform(X_cv['project_grade_category'].values)\n",
    "X_test_grade_ohe = vectorizer_grade.transform(x_test['project_grade_category'].values)\n",
    "\n",
    "print(\"After vectorizations\")\n",
    "print(X_train_grade_ohe.shape, y_train.shape)\n",
    "#print(X_cv_grade_ohe.shape, y_cv.shape)\n",
    "print(X_test_grade_ohe.shape, y_test.shape)\n",
    "print(vectorizer_grade.get_feature_names())\n",
    "print(\"=\"*100)"
   ]
  },
  {
   "cell_type": "markdown",
   "metadata": {
    "id": "HAMdhWUF7U2S"
   },
   "source": [
    "<h3>1.4.4 Vectorizing Categorical data: clean categories</h3>"
   ]
  },
  {
   "cell_type": "code",
   "execution_count": 22,
   "metadata": {
    "id": "LH-WoRve7U2S",
    "outputId": "4b48c7f2-1417-480c-d71d-bcaa88f1e9da"
   },
   "outputs": [
    {
     "name": "stdout",
     "output_type": "stream",
     "text": [
      "{'warmth': 1119, 'care_hunger': 1119, 'history_civics': 5445, 'music_arts': 9469, 'appliedlearning': 10837, 'specialneeds': 12392, 'health_sports': 13422, 'math_science': 38007, 'literacy_language': 47896}\n"
     ]
    }
   ],
   "source": [
    "# count of all the words in corpus python: https://stackoverflow.com/a/22898595/4084039\n",
    "my_counter = Counter()\n",
    "for word in data['clean_categories'].values:\n",
    "    my_counter.update(word.split())\n",
    "\n",
    "cat_dict = dict(my_counter)\n",
    "sorted_cat_dict = dict(sorted(cat_dict.items(), key=lambda kv: kv[1]))\n",
    "print(sorted_cat_dict)\n"
   ]
  },
  {
   "cell_type": "code",
   "execution_count": 23,
   "metadata": {
    "id": "uIYuSrvB7U2S",
    "outputId": "90832170-f587-47ef-b5ee-8aea1d597273"
   },
   "outputs": [
    {
     "name": "stdout",
     "output_type": "stream",
     "text": [
      "After vectorizations\n",
      "(80000, 9) (80000,)\n",
      "(20000, 9) (20000,)\n",
      "['warmth', 'care_hunger', 'history_civics', 'music_arts', 'appliedlearning', 'specialneeds', 'health_sports', 'math_science', 'literacy_language']\n",
      "====================================================================================================\n"
     ]
    }
   ],
   "source": [
    "vectorizer_cat = CountVectorizer(vocabulary=list(sorted_cat_dict.keys()), lowercase=False, binary=True)\n",
    "vectorizer_cat.fit(x_train['clean_categories'].values) # fit has to happen only on train data\n",
    "\n",
    "# we use the fitted CountVectorizer to convert the text to vector\n",
    "X_train_categories_one_hot = vectorizer_cat.transform(x_train['clean_categories'].values)\n",
    "#X_cv_grade_ohe = vectorizer.transform(X_cv['project_grade_category'].values)\n",
    "X_test_categories_one_hot = vectorizer_cat.transform(x_test['clean_categories'].values)\n",
    "\n",
    "print(\"After vectorizations\")\n",
    "print(X_train_categories_one_hot.shape, y_train.shape)\n",
    "#print(X_cv_grade_ohe.shape, y_cv.shape)\n",
    "print(X_test_categories_one_hot.shape, y_test.shape)\n",
    "print(vectorizer_cat.get_feature_names())\n",
    "print(\"=\"*100)"
   ]
  },
  {
   "cell_type": "markdown",
   "metadata": {
    "id": "OXchiaSa7U2T"
   },
   "source": [
    "<h3>1.4.5 Vectorizing Categorical data: clean subcategories</h3>"
   ]
  },
  {
   "cell_type": "code",
   "execution_count": 24,
   "metadata": {
    "id": "3SF5TDfQ7U2T",
    "outputId": "00593e65-9206-4c5a-d126-a0c696a029f5"
   },
   "outputs": [
    {
     "name": "stdout",
     "output_type": "stream",
     "text": [
      "{'economics': 255, 'communityservice': 407, 'financialliteracy': 491, 'parentinvolvement': 605, 'extracurricular': 713, 'civics_government': 763, 'foreignlanguages': 822, 'warmth': 1119, 'care_hunger': 1119, 'nutritioneducation': 1323, 'socialsciences': 1784, 'performingarts': 1791, 'charactereducation': 1881, 'teamsports': 1950, 'other': 2119, 'college_careerprep': 2332, 'music': 2888, 'history_geography': 2921, 'earlydevelopment': 3719, 'health_lifescience': 3899, 'esl': 4007, 'gym_fitness': 4240, 'environmentalscience': 5104, 'visualarts': 5791, 'health_wellness': 9816, 'appliedsciences': 9847, 'specialneeds': 12392, 'literature_writing': 20387, 'mathematics': 25830, 'literacy': 30836}\n"
     ]
    }
   ],
   "source": [
    "# count of all the words in corpus python: https://stackoverflow.com/a/22898595/4084039\n",
    "my_counter = Counter()\n",
    "for word in data['clean_subcategories'].values:\n",
    "    my_counter.update(word.split())\n",
    "\n",
    "sub_cat_dict = dict(my_counter)\n",
    "sorted_sub_cat_dict = dict(sorted(sub_cat_dict.items(), key=lambda kv: kv[1]))\n",
    "print(sorted_sub_cat_dict)\n"
   ]
  },
  {
   "cell_type": "code",
   "execution_count": 25,
   "metadata": {
    "id": "HYxln48C7U2T",
    "outputId": "055a0f04-4242-4e56-fcf0-760b997ce043"
   },
   "outputs": [
    {
     "name": "stdout",
     "output_type": "stream",
     "text": [
      "After vectorizations\n",
      "(80000, 30) (80000,)\n",
      "(20000, 30) (20000,)\n",
      "['economics', 'communityservice', 'financialliteracy', 'parentinvolvement', 'extracurricular', 'civics_government', 'foreignlanguages', 'warmth', 'care_hunger', 'nutritioneducation', 'socialsciences', 'performingarts', 'charactereducation', 'teamsports', 'other', 'college_careerprep', 'music', 'history_geography', 'earlydevelopment', 'health_lifescience', 'esl', 'gym_fitness', 'environmentalscience', 'visualarts', 'health_wellness', 'appliedsciences', 'specialneeds', 'literature_writing', 'mathematics', 'literacy']\n",
      "====================================================================================================\n"
     ]
    }
   ],
   "source": [
    "vectorizer_sub = CountVectorizer(vocabulary=list(sorted_sub_cat_dict.keys()), lowercase=False, binary=True)\n",
    "vectorizer_sub.fit(x_train['clean_subcategories'].values) # fit has to happen only on train data\n",
    "\n",
    "# we use the fitted CountVectorizer to convert the text to vector\n",
    "X_train_sub_categories_one_hot = vectorizer_sub.transform(x_train['clean_subcategories'].values)\n",
    "#X_cv_grade_ohe = vectorizer.transform(X_cv['project_grade_category'].values)\n",
    "X_test_sub_categories_one_hot = vectorizer_sub.transform(x_test['clean_subcategories'].values)\n",
    "\n",
    "print(\"After vectorizations\")\n",
    "print(X_train_sub_categories_one_hot.shape, y_train.shape)\n",
    "#print(X_cv_grade_ohe.shape, y_cv.shape)\n",
    "print(X_test_sub_categories_one_hot.shape, y_test.shape)\n",
    "print(vectorizer_sub.get_feature_names())\n",
    "print(\"=\"*100)"
   ]
  },
  {
   "cell_type": "markdown",
   "metadata": {
    "id": "tXjDTqZP7U2T"
   },
   "source": [
    "<h3>1.4.6 Normalizing numerical data: price</h3>"
   ]
  },
  {
   "cell_type": "code",
   "execution_count": 26,
   "metadata": {
    "id": "llUSPDfH7U2T",
    "outputId": "c605eab3-2019-458e-cc8c-b1d024586c5f"
   },
   "outputs": [
    {
     "name": "stdout",
     "output_type": "stream",
     "text": [
      "After Normalizing\n",
      "(80000, 1) (80000,)\n",
      "(20000, 1) (20000,)\n",
      "====================================================================================================\n"
     ]
    }
   ],
   "source": [
    "from sklearn.preprocessing import Normalizer\n",
    "normalizer = Normalizer()\n",
    "\n",
    "normalizer.fit(x_train['price'].values.reshape(1,-1))\n",
    "# After normalization reshape again to (-1, 1) i.e. this time unknown rows (i.e. leaving it to Numpy to decide), and specifying I need 1 column\n",
    "X_train_price_normalized = normalizer.transform(x_train['price'].values.reshape(1,-1)).reshape(-1,1)\n",
    "X_test_price_normalized = normalizer.transform(x_test['price'].values.reshape(1,-1)).reshape(-1,1)\n",
    "\n",
    "\n",
    "\n",
    "print(\"After Normalizing\")\n",
    "print(X_train_price_normalized.shape, y_train.shape)\n",
    "#print(X_cv_price_norm.shape, y_cv.shape)\n",
    "print(X_test_price_normalized.shape, y_test.shape)\n",
    "print(\"=\"*100)"
   ]
  },
  {
   "cell_type": "code",
   "execution_count": 27,
   "metadata": {
    "id": "vRqk3Z2j7U2T",
    "outputId": "aa56cfd4-ba0d-49d0-f50b-b6f2db01449b"
   },
   "outputs": [
    {
     "data": {
      "text/plain": [
       "array([[0.00409842],\n",
       "       [0.00027308],\n",
       "       [0.00099101],\n",
       "       ...,\n",
       "       [0.00039012],\n",
       "       [0.00359052],\n",
       "       [0.00060126]])"
      ]
     },
     "execution_count": 27,
     "metadata": {},
     "output_type": "execute_result"
    }
   ],
   "source": [
    "X_train_price_normalized"
   ]
  },
  {
   "cell_type": "markdown",
   "metadata": {
    "id": "5gFuZGNw7U2T"
   },
   "source": [
    "<h3>1.4.7  Normalizing Numerical data:teacher_number_of_previously_posted_projects</h3>"
   ]
  },
  {
   "cell_type": "code",
   "execution_count": 28,
   "metadata": {
    "id": "akVrmHrv7U2U",
    "outputId": "60a3a936-204c-4b42-93cb-e21d87225f34"
   },
   "outputs": [
    {
     "name": "stdout",
     "output_type": "stream",
     "text": [
      "After Normalizing\n",
      "(80000, 1) (80000,)\n",
      "(20000, 1) (20000,)\n"
     ]
    }
   ],
   "source": [
    "from sklearn.preprocessing import Normalizer\n",
    "normalizer = Normalizer()\n",
    "\n",
    "normalizer.fit(x_train['teacher_number_of_previously_posted_projects'].values.reshape(1,-1))\n",
    "\n",
    "X_train_teacher_previous_proj_normalized = normalizer.transform(x_train['teacher_number_of_previously_posted_projects'].values.reshape(1,-1))\n",
    "#X_cv_teacher_previous_proj_normalized= normalizer.transform(X_cv['price'].values.reshape(1,-1))\n",
    "X_test_teacher_previous_proj_normalized = normalizer.transform(x_test['teacher_number_of_previously_posted_projects'].values.reshape(1,-1))\n",
    "\n",
    "# After normalization reshape again to (-1, 1) i.e. this time unknown rows (i.e. leaving it to Numpy to decide), and specifying I need 1 column\n",
    "X_train_teacher_previous_proj_normalized = X_train_teacher_previous_proj_normalized.reshape(-1, 1)\n",
    "\n",
    "X_test_teacher_previous_proj_normalized = X_test_teacher_previous_proj_normalized.reshape(-1, 1)\n",
    "\n",
    "\n",
    "print(\"After Normalizing\")\n",
    "print(X_train_teacher_previous_proj_normalized.shape, y_train.shape)\n",
    "#print(X_cv_price_norm.shape, y_cv.shape)\n",
    "print(X_test_teacher_previous_proj_normalized.shape, y_test.shape)\n"
   ]
  },
  {
   "cell_type": "code",
   "execution_count": 29,
   "metadata": {
    "id": "C6vm25bF7U2U",
    "outputId": "05b8d3be-3628-4247-9939-ff2d840b0645"
   },
   "outputs": [
    {
     "data": {
      "text/plain": [
       "array([[0.00122075],\n",
       "       [0.00012207],\n",
       "       [0.00292979],\n",
       "       ...,\n",
       "       [0.        ],\n",
       "       [0.        ],\n",
       "       [0.00024415]])"
      ]
     },
     "execution_count": 29,
     "metadata": {},
     "output_type": "execute_result"
    }
   ],
   "source": [
    "X_train_teacher_previous_proj_normalized"
   ]
  },
  {
   "cell_type": "markdown",
   "metadata": {
    "id": "-IC-Hdo37U2U"
   },
   "source": [
    "<h2>1.5 Merging Features</h2>\n",
    "<h3>1.5.1 Merging all one hot features"
   ]
  },
  {
   "cell_type": "code",
   "execution_count": 30,
   "metadata": {
    "id": "rYL85SRL7U2U",
    "outputId": "ccb57b04-e179-47c5-c19a-fe08679090ce"
   },
   "outputs": [
    {
     "name": "stdout",
     "output_type": "stream",
     "text": [
      "Type of x_train_one_hot: <class 'scipy.sparse.coo.coo_matrix'>\n",
      "Type of x_test_one_hot: <class 'scipy.sparse.coo.coo_matrix'>\n",
      "Shape of x_train_one_hot: (80000, 101)\n",
      "Shape of x_test_one_hot: (20000, 101)\n"
     ]
    }
   ],
   "source": [
    "from scipy.sparse import hstack\n",
    "x_train_one_hot = hstack((\n",
    "    X_train_state_ohe,\n",
    "    X_train_teacher_ohe,\n",
    "    X_train_grade_ohe,\n",
    "    X_train_categories_one_hot,\n",
    "    X_train_sub_categories_one_hot,\n",
    "    X_train_price_normalized,\n",
    "    X_train_teacher_previous_proj_normalized))\n",
    "\n",
    "x_test_one_hot = hstack((\n",
    "    X_test_state_ohe,\n",
    "    X_test_teacher_ohe,\n",
    "    X_test_grade_ohe,\n",
    "    X_test_categories_one_hot,\n",
    "    X_test_sub_categories_one_hot,\n",
    "    X_test_price_normalized,\n",
    "    X_test_teacher_previous_proj_normalized))\n",
    "print(\"Type of x_train_one_hot:\",type(x_train_one_hot))\n",
    "print(\"Type of x_test_one_hot:\",type(x_test_one_hot))\n",
    "print(\"Shape of x_train_one_hot:\",x_train_one_hot.shape)\n",
    "print(\"Shape of x_test_one_hot:\",x_test_one_hot.shape)"
   ]
  },
  {
   "cell_type": "markdown",
   "metadata": {
    "id": "FjGRDD4Q7U2U"
   },
   "source": [
    "<h3>1.5.2 Set 1: categorical, numerical features + preprocessed_eassay (BOW)</h3>"
   ]
  },
  {
   "cell_type": "code",
   "execution_count": 31,
   "metadata": {
    "id": "rDL0Eww17U2U",
    "outputId": "b70fa97c-8d24-49a7-e60d-42749d49370a"
   },
   "outputs": [
    {
     "name": "stdout",
     "output_type": "stream",
     "text": [
      "Type of x_train_one_hot_bow: <class 'scipy.sparse.csr.csr_matrix'>\n",
      "Type of x_test_one_hot_bow: <class 'scipy.sparse.csr.csr_matrix'>\n",
      "Shape of x_train_one_hot_bow: (80000, 14686)\n",
      "Shape of x_test_one_hot_bow: (20000, 14686)\n"
     ]
    }
   ],
   "source": [
    "x_train_one_hot_bow = hstack((x_train_one_hot, X_train_essay_bow)).tocsr()\n",
    "x_test_one_hot_bow = hstack((x_test_one_hot, X_test_essay_bow)).tocsr()\n",
    "\n",
    "print(\"Type of x_train_one_hot_bow:\",type(x_train_one_hot_bow))\n",
    "print(\"Type of x_test_one_hot_bow:\",type(x_test_one_hot_bow))\n",
    "print(\"Shape of x_train_one_hot_bow:\",x_train_one_hot_bow.shape)\n",
    "print(\"Shape of x_test_one_hot_bow:\",x_test_one_hot_bow.shape)\n"
   ]
  },
  {
   "cell_type": "markdown",
   "metadata": {
    "id": "6gGGuHQm7U2V"
   },
   "source": [
    "<h3>1.5.3 Set 2: categorical, numerical features + preprocessed_eassay (TF-IDF)</h3>"
   ]
  },
  {
   "cell_type": "code",
   "execution_count": 32,
   "metadata": {
    "id": "I3_iZbgv7U2V",
    "outputId": "ce95016a-0ac8-465e-f31d-e810b51bdc58"
   },
   "outputs": [
    {
     "name": "stdout",
     "output_type": "stream",
     "text": [
      "Type of x_train_one_hot_tfidf: <class 'scipy.sparse.csr.csr_matrix'>\n",
      "Type of x_test_one_hot_tfidf: <class 'scipy.sparse.csr.csr_matrix'>\n",
      "Shape of x_train_one_hot_tfidf: (80000, 14686)\n",
      "Shape of x_test_one_hot_tfidf: (20000, 14686)\n"
     ]
    }
   ],
   "source": [
    "x_train_one_hot_tfidf = hstack((x_train_one_hot, X_train_essay_tfidf)).tocsr()\n",
    "x_test_one_hot_tfidf = hstack((x_test_one_hot, X_test_essay_tfidf)).tocsr()\n",
    "\n",
    "print(\"Type of x_train_one_hot_tfidf:\",type(x_train_one_hot_tfidf))\n",
    "print(\"Type of x_test_one_hot_tfidf:\",type(x_test_one_hot_tfidf))\n",
    "print(\"Shape of x_train_one_hot_tfidf:\",x_train_one_hot_tfidf.shape)\n",
    "print(\"Shape of x_test_one_hot_tfidf:\",x_test_one_hot_tfidf.shape)\n"
   ]
  },
  {
   "cell_type": "markdown",
   "metadata": {
    "id": "yYHPYadYb3dh"
   },
   "source": [
    "<h2>1.6 SET1: Appling NB on BOW</h2>\n",
    "\n",
    "<br>Apply NB on different kind of featurization as mentioned in the instructions\n",
    "<br> For Every model that you work on make sure you do the step 2 and step 3 of instrucations\n",
    "\n",
    "<h3>1.6.1 SET1: The hyper paramter tuning(find best alpha:smoothing parameter) using GRIDSEARCHCV</h3>"
   ]
  },
  {
   "cell_type": "code",
   "execution_count": 33,
   "metadata": {
    "id": "DNwqilFxb3di",
    "outputId": "a5d307b0-3d90-47ec-ca41-c66c21c2fc4d"
   },
   "outputs": [
    {
     "name": "stdout",
     "output_type": "stream",
     "text": [
      "Fitting 10 folds for each of 20 candidates, totalling 200 fits\n"
     ]
    },
    {
     "name": "stderr",
     "output_type": "stream",
     "text": [
      "[Parallel(n_jobs=1)]: Using backend SequentialBackend with 1 concurrent workers.\n"
     ]
    },
    {
     "name": "stdout",
     "output_type": "stream",
     "text": [
      "BEST ALPHA:  0.5  BEST SCORE:  0.7026079612135183\n"
     ]
    },
    {
     "name": "stderr",
     "output_type": "stream",
     "text": [
      "[Parallel(n_jobs=1)]: Done 200 out of 200 | elapsed:  1.3min finished\n"
     ]
    }
   ],
   "source": [
    "from sklearn.model_selection import GridSearchCV\n",
    "import matplotlib.pyplot as plt\n",
    "from sklearn.naive_bayes import MultinomialNB\n",
    "from sklearn.metrics import roc_auc_score\n",
    "import math\n",
    "\n",
    "from sklearn.model_selection import GridSearchCV\n",
    "mnb_bow = MultinomialNB(class_prior=[0.5, 0.5])\n",
    "parameters = {'alpha':[0.00001, 0.00005, 0.0001, 0.0005, 0.001, 0.005, 0.01, 0.05, 0.1, 0.5, 1, 5, 10, 50, 100, 500, 1000, 2500, 5000, 10000]}\n",
    "clf = GridSearchCV(mnb_bow, parameters, cv= 10, scoring='roc_auc',verbose=1,return_train_score=True)\n",
    "# clf.fit(x_cv_onehot_bow, y_cv)\n",
    "clf.fit(x_train_one_hot_bow,y_train)\n",
    "train_auc= clf.cv_results_['mean_train_score']\n",
    "train_auc_std= clf.cv_results_['std_train_score']\n",
    "cv_auc = clf.cv_results_['mean_test_score']\n",
    "cv_auc_std= clf.cv_results_['std_test_score']\n",
    "bestAlpha_1=clf.best_params_['alpha']\n",
    "bestScore_1=clf.best_score_\n",
    "print(\"BEST ALPHA: \",clf.best_params_['alpha'],\" BEST SCORE: \",clf.best_score_) #clf.best_estimator_.alpha"
   ]
  },
  {
   "cell_type": "code",
   "execution_count": 34,
   "metadata": {
    "id": "pkiY3rDU7U2V",
    "outputId": "3dc3a39c-5411-421c-b2ec-70950a69659a"
   },
   "outputs": [
    {
     "name": "stderr",
     "output_type": "stream",
     "text": [
      "100%|███████████████████████████████████████████████████████████████████████████████| 20/20 [00:00<00:00, 12103.03it/s]\n"
     ]
    },
    {
     "data": {
      "image/png": "[encoded data removed]",
      "text/plain": [
       "<Figure size 720x360 with 1 Axes>"
      ]
     },
     "metadata": {
      "needs_background": "light"
     },
     "output_type": "display_data"
    }
   ],
   "source": [
    "alphas = [0.00001, 0.00005, 0.0001, 0.0005, 0.001, 0.005, 0.01, 0.05, 0.1, 0.5, 1, 5, 10, 50, 100, 500, 1000, 2500, 5000, 10000]\n",
    "log_alphas =[]\n",
    "for a in tqdm(alphas):\n",
    "#     b = math.log(a)\n",
    "    b = np.log10(a)\n",
    "    log_alphas.append(b)\n",
    "plt.figure(figsize=(10,5))\n",
    "plt.plot(log_alphas, train_auc, label='Train AUC')\n",
    "# this code is copied from here: https://stackoverflow.com/a/48803361/4084039\n",
    "plt.gca().fill_between(log_alphas,train_auc - train_auc_std,train_auc + train_auc_std,alpha=0.3,color='darkblue')\n",
    "plt.plot(log_alphas, cv_auc, label='CV AUC')\n",
    "# this code is copied from here: https://stackoverflow.com/a/48803361/4084039\n",
    "plt.gca().fill_between(log_alphas,cv_auc - cv_auc_std,cv_auc + cv_auc_std,alpha=0.3,color='darkorange')\n",
    "plt.scatter(log_alphas, train_auc, label='Train AUC points')\n",
    "plt.scatter(log_alphas, cv_auc, label='CV AUC points')\n",
    "plt.legend()\n",
    "plt.xlabel(\"alpha: hyperparameter\")\n",
    "plt.ylabel(\"AUC\")\n",
    "plt.title(\"alpha: hyperparameter v/s AUC\")\n",
    "#plt.grid()\n",
    "plt.show()"
   ]
  },
  {
   "cell_type": "code",
   "execution_count": 35,
   "metadata": {
    "id": "ko_h8FYU7U2V",
    "outputId": "91b824ca-ac6d-42bb-a25d-d9c286327160"
   },
   "outputs": [
    {
     "data": {
      "image/png": "[encoded data removed]",
      "text/plain": [
       "<Figure size 432x288 with 1 Axes>"
      ]
     },
     "metadata": {
      "needs_background": "light"
     },
     "output_type": "display_data"
    }
   ],
   "source": [
    "#https://scikitlearn.org/stable/modules/generated/sklearn.metrics.roc_curve.html#sklearn.metrics.roc_curve\n",
    "from sklearn.metrics import roc_curve, auc\n",
    "mnb_bow_testModel = MultinomialNB(alpha = bestAlpha_1,class_prior=[0.5, 0.5])\n",
    "mnb_bow_testModel.fit(x_train_one_hot_bow, y_train)\n",
    "# roc_auc_score(y_true, y_score) the 2nd parameter should be probability estimates of the positive class\n",
    "# not the predicted outputs\n",
    "# y_train_pred = batch_predict(mnb_bow_testModel, x_train_onehot_bow)\n",
    "y_train_pred=mnb_bow_testModel.predict_proba(x_train_one_hot_bow)[:,1]\n",
    "# y_test_pred = batch_predict(mnb_bow_testModel, x_test_onehot_bow)\n",
    "y_test_pred=mnb_bow_testModel.predict_proba(x_test_one_hot_bow)[:,1]\n",
    "\n",
    "train_fpr, train_tpr, tr_thresholds = roc_curve(y_train, y_train_pred)\n",
    "test_fpr, test_tpr, te_thresholds = roc_curve(y_test, y_test_pred)\n",
    "\n",
    "ax = plt.subplot()\n",
    "\n",
    "auc_set1_train=auc(train_fpr, train_tpr)\n",
    "auc_set1_test=auc(test_fpr, test_tpr)\n",
    "\n",
    "\n",
    "ax.plot(train_fpr, train_tpr, label=\"Train AUC =\"+str(auc(train_fpr, train_tpr)))\n",
    "ax.plot(test_fpr, test_tpr, label=\"Test AUC =\"+str(auc(test_fpr, test_tpr)))\n",
    "plt.legend()\n",
    "plt.xlabel(\"False Positive Rate(FPR)\")\n",
    "plt.ylabel(\"True Positive Rate(TPR)\")\n",
    "plt.title(\"AUC\")\n",
    "plt.grid(b=True, which='major', color='k', linestyle=':')\n",
    "ax.set_facecolor(\"white\")\n",
    "plt.show()"
   ]
  },
  {
   "cell_type": "markdown",
   "metadata": {
    "id": "5p7SdA8u7U2W"
   },
   "source": [
    "<h3> SET1: Confusion Matrix: Train</h3>"
   ]
  },
  {
   "cell_type": "code",
   "execution_count": 36,
   "metadata": {
    "id": "5doOL9oD7U2W"
   },
   "outputs": [],
   "source": [
    "def predict(proba, threshould, fpr, tpr):\n",
    "    t = threshould[np.argmax(tpr*(1-fpr))]\n",
    "    # (tpr*(1-fpr)) will be maximum if your fpr is very low and tpr is very high\n",
    "    print(\"the maximum value of tpr*(1-fpr)\", max(tpr*(1-fpr)), \"for threshold\", np.round(t,3))\n",
    "    predictions = []\n",
    "    for i in proba:\n",
    "        if i>=t:\n",
    "            predictions.append(1)\n",
    "        else:\n",
    "            predictions.append(0)\n",
    "    return predictions"
   ]
  },
  {
   "cell_type": "code",
   "execution_count": 37,
   "metadata": {
    "id": "rFWQNN9i7U2W",
    "outputId": "6d2d399a-fe88-43f9-af1c-662e273a00fa",
    "scrolled": true
   },
   "outputs": [
    {
     "name": "stdout",
     "output_type": "stream",
     "text": [
      "Train confusion matrix\n",
      "the maximum value of tpr*(1-fpr) 0.49456890061186626 for threshold 0.396\n",
      "[[ 8276  3870]\n",
      " [18603 49251]]\n",
      "the maximum value of tpr*(1-fpr) 0.49456890061186626 for threshold 0.396\n"
     ]
    },
    {
     "data": {
      "text/plain": [
       "<AxesSubplot:>"
      ]
     },
     "execution_count": 37,
     "metadata": {},
     "output_type": "execute_result"
    },
    {
     "data": {
      "image/png": "[encoded data removed]",
      "text/plain": [
       "<Figure size 432x288 with 2 Axes>"
      ]
     },
     "metadata": {},
     "output_type": "display_data"
    }
   ],
   "source": [
    "from sklearn.metrics import confusion_matrix\n",
    "print(\"Train confusion matrix\")\n",
    "print(confusion_matrix(y_train, predict(y_train_pred, tr_thresholds, train_fpr, train_tpr)))\n",
    "\n",
    "conf_matr_df_train = pd.DataFrame(confusion_matrix(y_train, predict(y_train_pred, tr_thresholds,train_fpr, train_tpr)), range(2),range(2))\n",
    "\n",
    "## Heatmaps -> https://likegeeks.com/seaborn-heatmap-tutorial/\n",
    "sns.set(font_scale=1.4)#for label size\n",
    "sns.heatmap(conf_matr_df_train, annot=True,annot_kws={\"size\": 26}, fmt='g',cmap=\"YlGnBu\")"
   ]
  },
  {
   "cell_type": "markdown",
   "metadata": {
    "id": "6kpoLGNm7U2W"
   },
   "source": [
    "<h3>SET1: Confusion Matrix: Test</h3>"
   ]
  },
  {
   "cell_type": "code",
   "execution_count": 38,
   "metadata": {
    "id": "1ph6SB7U7U2X",
    "outputId": "67e10ac1-e971-40b9-f90a-23d06eab6333"
   },
   "outputs": [
    {
     "name": "stdout",
     "output_type": "stream",
     "text": [
      "Test confusion matrix\n",
      "the maximum value of tpr*(1-fpr) 0.4375666568724186 for threshold 0.997\n",
      "[[ 2744   293]\n",
      " [12019  4944]]\n",
      "the maximum value of tpr*(1-fpr) 0.4375666568724186 for threshold 0.997\n"
     ]
    },
    {
     "data": {
      "text/plain": [
       "<AxesSubplot:>"
      ]
     },
     "execution_count": 38,
     "metadata": {},
     "output_type": "execute_result"
    },
    {
     "data": {
      "image/png": "[encoded data removed]",
      "text/plain": [
       "<Figure size 432x288 with 2 Axes>"
      ]
     },
     "metadata": {},
     "output_type": "display_data"
    }
   ],
   "source": [
    "print(\"Test confusion matrix\")\n",
    "print(confusion_matrix(y_test, predict(y_test_pred, tr_thresholds, test_fpr, test_tpr)))\n",
    "\n",
    "conf_matr_df_test = pd.DataFrame(confusion_matrix(y_test, predict(y_test_pred, tr_thresholds, test_fpr, test_tpr)), range(2),range(2))\n",
    "sns.set(font_scale=1.4)#for label size\n",
    "sns.heatmap(conf_matr_df_test, annot=True,annot_kws={\"size\": 16}, fmt='g')"
   ]
  },
  {
   "cell_type": "markdown",
   "metadata": {
    "id": "0gSCJH7J7U2X"
   },
   "source": [
    "<h2>1.7 SET2: Applying naive bayes on TFIDF</h2>\n",
    "\n",
    "<h3>1.7.1 SET2: Hyerparameter tuning to find the best aalpha using GRIDSEARCHCV</h3>\n"
   ]
  },
  {
   "cell_type": "code",
   "execution_count": 39,
   "metadata": {
    "id": "K5t1RzJp7U2X",
    "outputId": "e6461f54-8d1b-47ea-c70e-3cd915cd1596"
   },
   "outputs": [
    {
     "name": "stdout",
     "output_type": "stream",
     "text": [
      "Fitting 10 folds for each of 20 candidates, totalling 200 fits\n"
     ]
    },
    {
     "name": "stderr",
     "output_type": "stream",
     "text": [
      "[Parallel(n_jobs=1)]: Using backend SequentialBackend with 1 concurrent workers.\n"
     ]
    },
    {
     "name": "stdout",
     "output_type": "stream",
     "text": [
      "BEST ALPHA:  0.05  BEST SCORE:  0.677894450374866\n"
     ]
    },
    {
     "name": "stderr",
     "output_type": "stream",
     "text": [
      "[Parallel(n_jobs=1)]: Done 200 out of 200 | elapsed:  1.3min finished\n"
     ]
    }
   ],
   "source": [
    "from sklearn.model_selection import GridSearchCV\n",
    "mnb_tfidf = MultinomialNB(class_prior=[0.5, 0.5])\n",
    "parameters = {'alpha':[0.00001, 0.00005, 0.0001, 0.0005, 0.001, 0.005, 0.01, 0.05, 0.1, 0.5, 1, 5, 10, 50, 100, 500, 1000, 2500, 5000, 10000]}\n",
    "clf = GridSearchCV(mnb_tfidf, parameters, cv= 10, scoring='roc_auc',verbose=1,return_train_score=True)\n",
    "# clf.fit(x_cv_onehot_tfidf, y_cv)\n",
    "clf.fit(x_train_one_hot_tfidf,y_train)\n",
    "train_auc= clf.cv_results_['mean_train_score']\n",
    "train_auc_std= clf.cv_results_['std_train_score']\n",
    "cv_auc = clf.cv_results_['mean_test_score']\n",
    "cv_auc_std= clf.cv_results_['std_test_score']\n",
    "bestAlpha_2=clf.best_params_['alpha']\n",
    "bestScore_2=clf.best_score_\n",
    "print(\"BEST ALPHA: \",clf.best_params_['alpha'],\" BEST SCORE: \",clf.best_score_) "
   ]
  },
  {
   "cell_type": "code",
   "execution_count": 40,
   "metadata": {
    "id": "_TVweouy7U2X",
    "outputId": "8cf92c8a-84ca-4cd7-f567-a1495d017910"
   },
   "outputs": [
    {
     "name": "stderr",
     "output_type": "stream",
     "text": [
      "100%|██████████████████████████████████████████████████████████████████████████████████████████| 20/20 [00:00<?, ?it/s]\n"
     ]
    },
    {
     "data": {
      "image/png": "[encoded data removed]",
      "text/plain": [
       "<Figure size 720x360 with 1 Axes>"
      ]
     },
     "metadata": {},
     "output_type": "display_data"
    }
   ],
   "source": [
    "alphas = [0.00001, 0.00005, 0.0001, 0.0005, 0.001, 0.005, 0.01, 0.05, 0.1, 0.5, 1, 5, 10, 50, 100, 500, 1000, 2500, 5000, 10000]\n",
    "log_alphas =[]\n",
    "for a in tqdm(alphas):\n",
    "#     b = math.log(a)\n",
    "    b = np.log10(a)\n",
    "    log_alphas.append(b)\n",
    "plt.figure(figsize=(10,5))\n",
    "plt.plot(log_alphas, train_auc, label='Train AUC')\n",
    "# this code is copied from here: https://stackoverflow.com/a/48803361/4084039\n",
    "plt.gca().fill_between(log_alphas,train_auc - train_auc_std,train_auc + train_auc_std,alpha=0.3,color='darkblue')\n",
    "plt.plot(log_alphas, cv_auc, label='CV AUC')\n",
    "# this code is copied from here: https://stackoverflow.com/a/48803361/4084039\n",
    "plt.gca().fill_between(log_alphas,cv_auc - cv_auc_std,cv_auc + cv_auc_std,alpha=0.3,color='darkorange')\n",
    "plt.scatter(log_alphas, train_auc, label='Train AUC points')\n",
    "plt.scatter(log_alphas, cv_auc, label='CV AUC points')\n",
    "plt.legend()\n",
    "plt.xlabel(\"alpha: hyperparameter\")\n",
    "plt.ylabel(\"AUC\")\n",
    "plt.title(\"alpha: hyperparameter v/s AUC\")\n",
    "\n",
    "plt.show() "
   ]
  },
  {
   "cell_type": "code",
   "execution_count": 41,
   "metadata": {
    "id": "ZD9Cj-1p7U2Y",
    "outputId": "d8036cc3-8981-4c8f-a008-23935510e112"
   },
   "outputs": [
    {
     "data": {
      "image/png": "[encoded data removed]",
      "text/plain": [
       "<Figure size 432x288 with 1 Axes>"
      ]
     },
     "metadata": {},
     "output_type": "display_data"
    }
   ],
   "source": [
    "from sklearn.metrics import roc_curve, auc\n",
    "mnb_tfidf_testModel = MultinomialNB(alpha = bestAlpha_2,class_prior=[0.5, 0.5])\n",
    "mnb_tfidf_testModel.fit(x_train_one_hot_tfidf, y_train)\n",
    "# roc_auc_score(y_true, y_score) the 2nd parameter should be probability estimates of the positive class\n",
    "# not the predicted outputs\n",
    "# y_train_pred = batch_predict(mnb_tfidf_testModel, x_train_onehot_tfidf)\n",
    "# y_test_pred = batch_predict(mnb_tfidf_testModel, x_test_onehot_tfidf)\n",
    "y_train_pred=mnb_tfidf_testModel.predict_proba(x_train_one_hot_tfidf)[:,1]\n",
    "y_test_pred=mnb_tfidf_testModel.predict_proba(x_test_one_hot_tfidf)[:,1]\n",
    "\n",
    "train_fpr, train_tpr, tr_thresholds = roc_curve(y_train, y_train_pred)\n",
    "test_fpr, test_tpr, te_thresholds = roc_curve(y_test, y_test_pred)\n",
    "\n",
    "ax = plt.subplot()\n",
    "\n",
    "auc_set2_train=auc(train_fpr, train_tpr)\n",
    "auc_set2_test=auc(test_fpr, test_tpr)\n",
    "\n",
    "# plt.plot(train_fpr, train_tpr, label=\"Train AUC =\"+str(auc(train_fpr, train_tpr)))\n",
    "# plt.plot(test_fpr, test_tpr, label=\"Test AUC =\"+str(auc(test_fpr, test_tpr)))\n",
    "ax.plot(train_fpr, train_tpr, label=\"Train AUC =\"+str(auc(train_fpr, train_tpr)))\n",
    "ax.plot(test_fpr, test_tpr, label=\"Test AUC =\"+str(auc(test_fpr, test_tpr)))\n",
    "\n",
    "plt.legend()\n",
    "plt.xlabel(\"False Positive Rate(FPR)\")\n",
    "plt.ylabel(\"True Positive Rate(TPR)\")\n",
    "plt.title(\"AUC\")\n",
    "plt.grid(b=True, which='major', color='k', linestyle=':')\n",
    "ax.set_facecolor(\"white\")\n",
    "plt.show()"
   ]
  },
  {
   "cell_type": "markdown",
   "metadata": {
    "id": "9s9VDrjw7U2Y"
   },
   "source": [
    "<h3>SET2: Confusion Matrix: Train</h3>"
   ]
  },
  {
   "cell_type": "code",
   "execution_count": 42,
   "metadata": {
    "id": "mXypOENL7U2Y",
    "outputId": "b8f5dac5-e588-45cd-cd18-7bf657b297c7"
   },
   "outputs": [
    {
     "name": "stdout",
     "output_type": "stream",
     "text": [
      "Train confusion matrix\n",
      "the maximum value of tpr*(1-fpr) 0.48199476471094105 for threshold 0.515\n",
      "[[ 8777  3369]\n",
      " [22595 45259]]\n",
      "the maximum value of tpr*(1-fpr) 0.48199476471094105 for threshold 0.515\n"
     ]
    },
    {
     "data": {
      "text/plain": [
       "<AxesSubplot:>"
      ]
     },
     "execution_count": 42,
     "metadata": {},
     "output_type": "execute_result"
    },
    {
     "data": {
      "image/png": "[encoded data removed]",
      "text/plain": [
       "<Figure size 432x288 with 2 Axes>"
      ]
     },
     "metadata": {},
     "output_type": "display_data"
    }
   ],
   "source": [
    "from sklearn.metrics import confusion_matrix\n",
    "print(\"Train confusion matrix\")\n",
    "print(confusion_matrix(y_train, predict(y_train_pred, tr_thresholds, train_fpr, train_tpr)))\n",
    "\n",
    "conf_matr_df_train = pd.DataFrame(confusion_matrix(y_train, predict(y_train_pred, tr_thresholds,train_fpr, train_tpr)), range(2),range(2))\n",
    "\n",
    "## Heatmaps -> https://likegeeks.com/seaborn-heatmap-tutorial/\n",
    "sns.set(font_scale=1.4)#for label size\n",
    "sns.heatmap(conf_matr_df_train, annot=True,annot_kws={\"size\": 26}, fmt='g',cmap=\"YlGnBu\")"
   ]
  },
  {
   "cell_type": "markdown",
   "metadata": {
    "id": "TsuPZKeT7U2Z"
   },
   "source": [
    "<h3>SET2: Confusion Matrix: Test</h3>"
   ]
  },
  {
   "cell_type": "code",
   "execution_count": 43,
   "metadata": {
    "id": "uh3roPcT7U2Z",
    "outputId": "8d187a2b-3776-4f80-9214-2f17017c217c"
   },
   "outputs": [
    {
     "name": "stdout",
     "output_type": "stream",
     "text": [
      "Test confusion matrix\n",
      "the maximum value of tpr*(1-fpr) 0.4066256390096627 for threshold 0.659\n",
      "[[ 2675   362]\n",
      " [11733  5230]]\n",
      "the maximum value of tpr*(1-fpr) 0.4066256390096627 for threshold 0.659\n"
     ]
    },
    {
     "data": {
      "text/plain": [
       "<AxesSubplot:>"
      ]
     },
     "execution_count": 43,
     "metadata": {},
     "output_type": "execute_result"
    },
    {
     "data": {
      "image/png": "[encoded data removed]",
      "text/plain": [
       "<Figure size 432x288 with 2 Axes>"
      ]
     },
     "metadata": {},
     "output_type": "display_data"
    }
   ],
   "source": [
    "print(\"Test confusion matrix\")\n",
    "print(confusion_matrix(y_test, predict(y_test_pred, tr_thresholds, test_fpr, test_tpr)))\n",
    "\n",
    "conf_matr_df_test = pd.DataFrame(confusion_matrix(y_test, predict(y_test_pred, tr_thresholds, test_fpr, test_tpr)), range(2),range(2))\n",
    "sns.set(font_scale=1.4)#for label size\n",
    "sns.heatmap(conf_matr_df_test, annot=True,annot_kws={\"size\": 16}, fmt='g')"
   ]
  },
  {
   "cell_type": "markdown",
   "metadata": {
    "id": "KBm1Z3xr7U2Z"
   },
   "source": [
    "<h2>1.8 TOP 20 FEATURES FOR SET1: BOW</h2>\n",
    "\n"
   ]
  },
  {
   "cell_type": "code",
   "execution_count": 44,
   "metadata": {
    "id": "EyRmn62G7U2Z",
    "outputId": "2be82dd8-0554-4ebf-f476-3a7df2a8491f"
   },
   "outputs": [
    {
     "name": "stdout",
     "output_type": "stream",
     "text": [
      "mnb_bow_testModel.feature_log_prob_ \n",
      " [[-10.69624551  -9.11933079  -9.38252184 ... -13.06782347 -13.06782347\n",
      "  -12.81650905]\n",
      " [-10.75262682  -9.1009291   -9.62875668 ... -13.74119061 -12.97905055\n",
      "  -12.25311355]]\n",
      "====================================================================================================\n",
      "LEN of mnb_bow_testModel.feature_log_prob_  14686\n",
      "Shape of probabilities_sorted_of_all_negative_class  (14686,)\n",
      "Shape of positive_class_sorted_proba  (14686,)\n",
      "Length of vectorized_all_features_horizontally_stacked  ( should be  14686 ) :  14686\n"
     ]
    }
   ],
   "source": [
    "#top 20 important features-BOW: https://medium.com/analytics-vidhya/naive-bayes-with-bag-of-words-on-kaggle-donor-choose-dataset-117573335b6c\n",
    "# using feature_log_prob_ to get the most important features\n",
    "print('mnb_bow_testModel.feature_log_prob_ \\n', mnb_bow_testModel.feature_log_prob_)\n",
    "# Its basically, just the log probability of each word, given in a 2-d array structure\n",
    "# Note, feature_log_prob_ will give me the actual log probabilities of each features,\n",
    "# but I need the index position of those probabilities.\n",
    "# So, that with that same index position I can get the corresponding feature-names.\n",
    "print(\"=\"*100)\n",
    "print('LEN of mnb_bow_testModel.feature_log_prob_ ', len(mnb_bow_testModel.feature_log_prob_[1]))\n",
    "\n",
    "# So, first, I will sort the result from feature_log_prob_ , and ONLY after that\n",
    "# get the corresponding positional-index of the top 20 features.\n",
    "# And then I can apply the same positional-index number to get the corresponding features names (which are the labels / words )\n",
    "# https://stackoverflow.com/a/50530697/1902852\n",
    "\n",
    "probabilities_sorted_of_all_negative_class = mnb_bow_testModel.feature_log_prob_[0, :].argsort()\n",
    "#class 0\n",
    "\n",
    "positive_class_sorted_proba = mnb_bow_testModel.feature_log_prob_[1, :].argsort()\n",
    "#class 1\n",
    "\n",
    "'''numpy.argsort() function is used to perform an indirect sort along the given axis. It returns an array of indices of the same shape as arr that that would sort the array. Basically it gives me the sorted array indices'''\n",
    "\n",
    "print(\"Shape of probabilities_sorted_of_all_negative_class \", probabilities_sorted_of_all_negative_class.shape)\n",
    "print(\"Shape of positive_class_sorted_proba \", positive_class_sorted_proba.shape)\n",
    "\n",
    "# Now - Lets get all horizontally stacked features which were individually derived from CounterVectorizer earlier\n",
    "# Using itertools.chain() method to chain multiple arrays/lists at once\n",
    "# https://stackoverflow.com/a/34665782/1902852\n",
    "from itertools import chain\n",
    "\n",
    "vectorized_all_features_horizontally_stacked = list(chain(vectorizer_cat.get_feature_names(), \n",
    "                                                          vectorizer_sub.get_feature_names(), \n",
    "                                                          vectorizer_prefix.get_feature_names(),  \n",
    "                                                          vectorizer_grade.get_feature_names(), \n",
    "                                                          vectorizer_school_state.get_feature_names(), \n",
    "                                                          vectorizer_essay_bow.get_feature_names()))\n",
    "\n",
    "# After adding all the vectorized features (which includes both categorical and text features)\n",
    "# And now I also need to append the two left-over Numerical features which are\n",
    "# 'price' and 'teacher_number_of_previously_posted_projects'\n",
    "vectorized_all_features_horizontally_stacked.extend(['price', 'teacher_number_of_previously_posted_projects'])\n",
    "\n",
    "# The above extend() is equivalent to below append()\n",
    "# vectorized_all_features_horizontally_stacked.append('resource_cost')\n",
    "# vectorized_all_features_horizontally_stacked.append('teacher_number_of_previously_posted_projects' )\n",
    "\n",
    "print('Length of vectorized_all_features_horizontally_stacked', ' ( should be ', x_train_one_hot_bow.shape[1], ') : ' , len(vectorized_all_features_horizontally_stacked))\n",
    "\n"
   ]
  },
  {
   "cell_type": "markdown",
   "metadata": {
    "id": "tvYeLh-87U2Z"
   },
   "source": [
    "<h3>SET1: NEGATIVE CLASS </h3>"
   ]
  },
  {
   "cell_type": "code",
   "execution_count": 45,
   "metadata": {
    "id": "5N-RM6Ei7U2Z",
    "outputId": "00a99c98-7536-4184-b6ca-ac199b62ce44"
   },
   "outputs": [
    {
     "name": "stdout",
     "output_type": "stream",
     "text": [
      "top_20_negative_class_features_labels:\n",
      "  ['classes' 'daylight' 'used' 'math' 'skip' 'abound' 'loved' 'reads'\n",
      " 'comedians' 'workbook' 'neediest' 'maple' 'napkins' 'helper' 'learner'\n",
      " 'notable' 'classwork' 'learniture' 'schooler']\n"
     ]
    }
   ],
   "source": [
    "# FINALLY THE TOP 20 FEATURES\n",
    "top_20_negative_class_features_labels = np.take(vectorized_all_features_horizontally_stacked, probabilities_sorted_of_all_negative_class[-20: -1])\n",
    "print('top_20_negative_class_features_labels:\\n ', top_20_negative_class_features_labels)"
   ]
  },
  {
   "cell_type": "markdown",
   "metadata": {
    "id": "e5aEKXOZ7U2a"
   },
   "source": [
    "<h3>SET1: POSITIVE CLASS </h3>"
   ]
  },
  {
   "cell_type": "code",
   "execution_count": 46,
   "metadata": {
    "id": "G0eUp3Sc7U2a",
    "outputId": "cc64d740-ad63-4805-fd8c-d92e84a13e5a"
   },
   "outputs": [
    {
     "name": "stdout",
     "output_type": "stream",
     "text": [
      "top_20_positive_class_features_labels:\n",
      "  ['techy' 'woven' 'classes' 'comedians' 'daylight' 'abound' 'loved' 'used'\n",
      " 'neediest' 'workbook' 'reads' 'napkins' 'maple' 'helper' 'learner'\n",
      " 'notable' 'classwork' 'learniture' 'schooler']\n"
     ]
    }
   ],
   "source": [
    "\n",
    "top_20_positive_class_features_labels = np.take(vectorized_all_features_horizontally_stacked, positive_class_sorted_proba[-20: -1])\n",
    "print('top_20_positive_class_features_labels:\\n ', top_20_positive_class_features_labels)\n"
   ]
  },
  {
   "cell_type": "markdown",
   "metadata": {
    "id": "Zj7f0LAG7U2a"
   },
   "source": [
    "<h2>1.9 CONCLUSION </h2>"
   ]
  },
  {
   "cell_type": "code",
   "execution_count": 47,
   "metadata": {
    "id": "u-RihYiX7U2a",
    "outputId": "e394282d-4f02-4469-96ba-4fe06d741989"
   },
   "outputs": [
    {
     "name": "stdout",
     "output_type": "stream",
     "text": [
      "+------------+-------------------------+-----------------------+-----------+----------+\n",
      "| Vectorizer |          Model          | Hyperparameter: Alpha | Train AUC | Test AUC |\n",
      "+------------+-------------------------+-----------------------+-----------+----------+\n",
      "|    BOW     | Multinomial Naive Bayes |          0.5          |    0.77   |   0.71   |\n",
      "|   TF-IDF   | Multinomial Naive Bayes |          0.05         |    0.76   |   0.68   |\n",
      "+------------+-------------------------+-----------------------+-----------+----------+\n"
     ]
    }
   ],
   "source": [
    "from prettytable import PrettyTable\n",
    "    \n",
    "x = PrettyTable()\n",
    "\n",
    "x.field_names = [\"Vectorizer\", \"Model\", \"Hyperparameter: Alpha\", \"Train AUC\", \"Test AUC\"]\n",
    "auc_set2_train=auc(train_fpr, train_tpr)\n",
    "auc_set2_test=auc(test_fpr, test_tpr)\n",
    "\n",
    "x.add_row([\"BOW\", \"Multinomial Naive Bayes\", bestAlpha_1, round(auc_set1_train,2),round(auc_set1_test,2)])\n",
    "x.add_row([\"TF-IDF\", \"Multinomial Naive Bayes\", bestAlpha_2, round(auc_set2_train,2),round(auc_set2_test,2)])\n",
    "\n",
    "print(x)"
   ]
  },
  {
   "cell_type": "markdown",
   "metadata": {
    "id": "tObnWHl17U2a"
   },
   "source": [
    "<h2>References:</h2>\n",
    "\n",
    "* https://www.kaggle.com/nikhilparmar9/naive-bayes-donorschoose-dataset\n",
    "\n",
    "* https://medium.com/analytics-vidhya/naive-bayes-with-bag-of-words-on-kaggle-donor-choose-dataset-117573335b6c\n",
    "\n",
    "* https://www.appliedaicourse.com/course/11/Applied-Machine-learning-course"
   ]
  }
 ],
 "metadata": {
  "colab": {
   "collapsed_sections": [],
   "name": "Donors_choose_NB.ipynb",
   "provenance": []
  },
  "kernelspec": {
   "display_name": "Python 3",
   "language": "python",
   "name": "python3"
  },
  "language_info": {
   "codemirror_mode": {
    "name": "ipython",
    "version": 3
   },
   "file_extension": ".py",
   "mimetype": "text/x-python",
   "name": "python",
   "nbconvert_exporter": "python",
   "pygments_lexer": "ipython3",
   "version": "3.8.5"
  }
 },
 "nbformat": 4,
 "nbformat_minor": 1
}
